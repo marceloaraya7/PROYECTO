{
  "nbformat": 4,
  "nbformat_minor": 0,
  "metadata": {
    "colab": {
      "provenance": [],
      "include_colab_link": true
    },
    "kernelspec": {
      "name": "python3",
      "display_name": "Python 3"
    },
    "language_info": {
      "name": "python"
    }
  },
  "cells": [
    {
      "cell_type": "markdown",
      "metadata": {
        "id": "view-in-github",
        "colab_type": "text"
      },
      "source": [
        "<a href=\"https://colab.research.google.com/github/marceloaraya7/PROYECTO/blob/main/Optimizando_el_Aprendizaje_Predicci%C3%B3n_del_Rendimiento_en_Ingl%C3%A9s.ipynb\" target=\"_parent\"><img src=\"https://colab.research.google.com/assets/colab-badge.svg\" alt=\"Open In Colab\"/></a>"
      ]
    },
    {
      "cell_type": "markdown",
      "source": [
        "## **Optimizando el Aprendizaje: Predicción del Rendimiento en Inglés**\n",
        "\n",
        "## **Objetivo**\n",
        "\n",
        "Identificar patrones tempranos que permitan orientar intervenciones pedagógicas y reducir la brecha de aprendizaje hacia 4º medio donde deben realizar los examenes internacionales de Inglés FCE o CAE. A partir de un conjunto de datos reales, se entrena un modelo de clasificación que busca predecir el nivel, evaluando tanto su precisión como la importancia relativa de cada habilidad en la predicción.\n",
        "\n",
        "## **Introducción**\n",
        "\n",
        "Este trabajo explora el uso de modelos de aprendizaje automático para predecir el nivel de inglés de estudiantes de 1º medio del Colegio Puerto Varas, a partir de sus puntajes en las habilidades de lectura, escritura, comprensión auditiva y expresión oral del examen PET.\n",
        "\n",
        "Lo primero será importar las librerías necesarias para entrenar el modelo. Hacemos uso de librerías clásicas de Python para el procesamiento y visualización de los datos y el reporte de clasificación, además de las herramientas de Machine Learning que ofrece la librería scikit-learn."
      ],
      "metadata": {
        "id": "UuvEL332ue7E"
      }
    },
    {
      "cell_type": "code",
      "source": [],
      "metadata": {
        "id": "u0ZZCdbypxwd"
      },
      "execution_count": null,
      "outputs": []
    },
    {
      "cell_type": "markdown",
      "source": [],
      "metadata": {
        "id": "TGGJC5unmXfO"
      }
    },
    {
      "cell_type": "code",
      "execution_count": 1,
      "metadata": {
        "id": "nAle9V9ej3UN"
      },
      "outputs": [],
      "source": [
        "# Paso 1: Librerías necesarias\n",
        "import pandas as pd\n",
        "import numpy as np\n",
        "import matplotlib.pyplot as plt\n",
        "import seaborn as sns\n",
        "\n",
        "from sklearn.model_selection import train_test_split\n",
        "from sklearn.ensemble import RandomForestClassifier\n",
        "from sklearn.preprocessing import LabelEncoder\n",
        "from sklearn.metrics import classification_report, confusion_matrix\n",
        "from sklearn.utils.multiclass import unique_labels"
      ]
    },
    {
      "cell_type": "markdown",
      "source": [
        "## **Descripción conjunto de datos**\n",
        "\n",
        "Luego, procedemos a cargar los datos con los que contamos. Se tratan de los resultados de una prueba de evaluación de inglés aplicada a estudiantes de primero medio del Colegio Puerto Varas. Este paso podría realizarse cargando un archivo .csv desde alguna fuente externa, pero en este caso se genera el .csv con la data ya que son pocos casos.\n",
        "\n",
        "Cada fila representa a un estudiante, con estas variables:\n",
        "\n",
        "**Reading**: Comprensión lectora\n",
        "\n",
        "**Writing**: Producción escrita\n",
        "\n",
        "**Listening**: Comprensión auditiva\n",
        "\n",
        "**Speaking**: Expresión oral\n",
        "\n",
        "**Overall Score**: Puntaje global (promedio o total)\n",
        "\n",
        "**Grade**: Nivel de inglés (A2, B1, B2, C)\n",
        "\n",
        "La variable objetivo para la clasificación es Grade, que indica el resultado final. Overall Score corresponde a la puntuación general, y tiene una relación directa con Grade."
      ],
      "metadata": {
        "id": "g5H8V_eum3EM"
      }
    },
    {
      "cell_type": "code",
      "source": [
        "# Paso 2: Cargar datos desde CSV\n",
        "from io import StringIO\n",
        "\n",
        "data_csv = \"\"\"\n",
        "Apellido,Nombre,Reading,Writing,Listening,Speaking,Overall Score,Grade\n",
        "Román,Baltazar,143,151,138,152,146,C\n",
        "Moya,Alonso,133,151,126,151,140,B1\n",
        "Río,Borja,113,145,122,146,137,A2\n",
        "Siade,Andrés,124,141,131,150,137,A2\n",
        "Fuentes,Benjamín,131,143,138,147,140,B1\n",
        "Gaete,Carlos,120,137,136,146,135,A2\n",
        "Petersen,Diego,140,151,136,146,143,B1\n",
        "Guesalaga,Catalina,170,150,163,163,162,B2\n",
        "Delgado,Felipe,170,156,170,161,164,B2\n",
        "Gilardoni,Enzo,134,151,136,140,140,B1\n",
        "Lazo,Florencio,170,156,163,170,165,B2\n",
        "Correa,Francisco,170,143,163,153,157,B1\n",
        "Vyhmeister,Ian,138,145,136,144,141,B1\n",
        "Sánchez,Gabriel,151,148,170,152,155,B1\n",
        "Marín,Francisca,148,151,150,158,152,B1\n",
        "Infante,Ignacia,170,148,170,170,165,B2\n",
        "Martínez,José María,170,155,158,148,158,B1\n",
        "Mac Donald,Josefina,134,150,138,151,143,B1\n",
        "Valderrama,Juan Diego,145,148,163,151,152,B1\n",
        "Reyes,José Pedro,109,145,124,138,129,A2\n",
        "Sandoval,Juanita,129,151,143,152,144,B1\n",
        "Valdés,León,134,148,136,148,142,B1\n",
        "Carrera,Leonor,118,146,116,147,132,A2\n",
        "\"\"\"\n",
        "\n",
        "df = pd.read_csv(StringIO(data_csv))"
      ],
      "metadata": {
        "id": "TBSoJwPomBU4"
      },
      "execution_count": 2,
      "outputs": []
    },
    {
      "cell_type": "markdown",
      "source": [
        "Se puede apreciar a simple vista que entre los valores de Grade contamos con tan solo un caso en que el valor es C. Esto es problemático, pues no nos permitirá hacer una separación del dataset entre entrenamiento y prueba para esta clase, por lo que es mejor retirarla."
      ],
      "metadata": {
        "id": "bOUDU5mTnsms"
      }
    },
    {
      "cell_type": "code",
      "source": [
        "# Paso 3: Eliminar la clase con solo un ejemplo ('C')\n",
        "df = df[df['Grade'] != 'C']"
      ],
      "metadata": {
        "id": "S3YR9hTBmDkD"
      },
      "execution_count": null,
      "outputs": []
    },
    {
      "cell_type": "markdown",
      "source": [
        "Definimos la variable Grade como la variable objetivo. Esta se transforma en valores numéricos mediante LabelEncoder, ya que los modelos de ML trabajan con números.\n",
        "\n",
        "Además, dejamos fuera Overall Score. Su relación con Grade es casi directa (si no se usa para definir Grade, probablemente se correlaciona fuertemente con ella). Incluir Overall Score puede hacer que el modelo aprenda a predecir el nivel solo con ese valor, ignorando las habilidades individuales. Esto reduce la capacidad del modelo de identificar qué habilidades necesitan ser reforzadas para mejorar el nivel, haciendo que sea pedagógicamente poco útil su incorporación en el modelo."
      ],
      "metadata": {
        "id": "829V3iLaoOo-"
      }
    },
    {
      "cell_type": "code",
      "source": [
        "# Paso 4: Preprocesamiento\n",
        "X = df[['Reading', 'Writing', 'Listening', 'Speaking']]\n",
        "y = df['Grade']\n",
        "\n",
        "le = LabelEncoder()\n",
        "y_encoded = le.fit_transform(y)"
      ],
      "metadata": {
        "id": "xUAi74f-mFxj",
        "colab": {
          "base_uri": "https://localhost:8080/",
          "height": 211
        },
        "outputId": "6fec9f6b-3406-4ca1-bb4c-e2c0b0d2cdf6"
      },
      "execution_count": 1,
      "outputs": [
        {
          "output_type": "error",
          "ename": "NameError",
          "evalue": "name 'df' is not defined",
          "traceback": [
            "\u001b[0;31m---------------------------------------------------------------------------\u001b[0m",
            "\u001b[0;31mNameError\u001b[0m                                 Traceback (most recent call last)",
            "\u001b[0;32m<ipython-input-1-0b86ca655905>\u001b[0m in \u001b[0;36m<cell line: 0>\u001b[0;34m()\u001b[0m\n\u001b[1;32m      1\u001b[0m \u001b[0;31m# Paso 4: Preprocesamiento\u001b[0m\u001b[0;34m\u001b[0m\u001b[0;34m\u001b[0m\u001b[0m\n\u001b[0;32m----> 2\u001b[0;31m \u001b[0mX\u001b[0m \u001b[0;34m=\u001b[0m \u001b[0mdf\u001b[0m\u001b[0;34m[\u001b[0m\u001b[0;34m[\u001b[0m\u001b[0;34m'Reading'\u001b[0m\u001b[0;34m,\u001b[0m \u001b[0;34m'Writing'\u001b[0m\u001b[0;34m,\u001b[0m \u001b[0;34m'Listening'\u001b[0m\u001b[0;34m,\u001b[0m \u001b[0;34m'Speaking'\u001b[0m\u001b[0;34m]\u001b[0m\u001b[0;34m]\u001b[0m\u001b[0;34m\u001b[0m\u001b[0;34m\u001b[0m\u001b[0m\n\u001b[0m\u001b[1;32m      3\u001b[0m \u001b[0my\u001b[0m \u001b[0;34m=\u001b[0m \u001b[0mdf\u001b[0m\u001b[0;34m[\u001b[0m\u001b[0;34m'Grade'\u001b[0m\u001b[0;34m]\u001b[0m\u001b[0;34m\u001b[0m\u001b[0;34m\u001b[0m\u001b[0m\n\u001b[1;32m      4\u001b[0m \u001b[0;34m\u001b[0m\u001b[0m\n\u001b[1;32m      5\u001b[0m \u001b[0mle\u001b[0m \u001b[0;34m=\u001b[0m \u001b[0mLabelEncoder\u001b[0m\u001b[0;34m(\u001b[0m\u001b[0;34m)\u001b[0m\u001b[0;34m\u001b[0m\u001b[0;34m\u001b[0m\u001b[0m\n",
            "\u001b[0;31mNameError\u001b[0m: name 'df' is not defined"
          ]
        }
      ]
    },
    {
      "cell_type": "markdown",
      "source": [
        "## **Metodos y Modelos**\n",
        "\n",
        "Generamos la partición entre entrenamiento y prueba (con una proporción de 80/20), y se utiliza estratificación, lo que asegura que la proporción de niveles de inglés se mantenga en ambas divisiones. La estratificación es importante para asegurarnos de que haya representación de las distintas clases en ambos conjuntos."
      ],
      "metadata": {
        "id": "r6unXSWNoant"
      }
    },
    {
      "cell_type": "code",
      "source": [
        "# Paso 5: División estratificada\n",
        "X_train, X_test, y_train, y_test = train_test_split(\n",
        "    X, y_encoded, test_size=0.2, random_state=42, stratify=y_encoded\n",
        ")"
      ],
      "metadata": {
        "id": "tgiDkuqamHSL"
      },
      "execution_count": null,
      "outputs": []
    },
    {
      "cell_type": "markdown",
      "source": [],
      "metadata": {
        "id": "_VBVzfEuFC7F"
      }
    },
    {
      "cell_type": "markdown",
      "source": [
        "Entrenamos el modelo utilizando Random Forest Classifier (modelo de árbol de decisión con múltiples árboles). Este modelo funciona bien cuando contamos con pocos datos."
      ],
      "metadata": {
        "id": "Lg3zRnbXonew"
      }
    },
    {
      "cell_type": "code",
      "source": [
        "# Paso 6: Entrenamiento\n",
        "model = RandomForestClassifier(random_state=42)\n",
        "model.fit(X_train, y_train)"
      ],
      "metadata": {
        "colab": {
          "base_uri": "https://localhost:8080/",
          "height": 176
        },
        "id": "epnCxWQomI1L",
        "outputId": "6b52236c-20ae-4485-c6d3-eb0da2072ec2"
      },
      "execution_count": 3,
      "outputs": [
        {
          "output_type": "error",
          "ename": "NameError",
          "evalue": "name 'X_train' is not defined",
          "traceback": [
            "\u001b[0;31m---------------------------------------------------------------------------\u001b[0m",
            "\u001b[0;31mNameError\u001b[0m                                 Traceback (most recent call last)",
            "\u001b[0;32m<ipython-input-3-b2a083f1b734>\u001b[0m in \u001b[0;36m<cell line: 0>\u001b[0;34m()\u001b[0m\n\u001b[1;32m      1\u001b[0m \u001b[0;31m# Paso 6: Entrenamiento\u001b[0m\u001b[0;34m\u001b[0m\u001b[0;34m\u001b[0m\u001b[0m\n\u001b[1;32m      2\u001b[0m \u001b[0mmodel\u001b[0m \u001b[0;34m=\u001b[0m \u001b[0mRandomForestClassifier\u001b[0m\u001b[0;34m(\u001b[0m\u001b[0mrandom_state\u001b[0m\u001b[0;34m=\u001b[0m\u001b[0;36m42\u001b[0m\u001b[0;34m)\u001b[0m\u001b[0;34m\u001b[0m\u001b[0;34m\u001b[0m\u001b[0m\n\u001b[0;32m----> 3\u001b[0;31m \u001b[0mmodel\u001b[0m\u001b[0;34m.\u001b[0m\u001b[0mfit\u001b[0m\u001b[0;34m(\u001b[0m\u001b[0mX_train\u001b[0m\u001b[0;34m,\u001b[0m \u001b[0my_train\u001b[0m\u001b[0;34m)\u001b[0m\u001b[0;34m\u001b[0m\u001b[0;34m\u001b[0m\u001b[0m\n\u001b[0m",
            "\u001b[0;31mNameError\u001b[0m: name 'X_train' is not defined"
          ]
        }
      ]
    },
    {
      "cell_type": "markdown",
      "source": [
        "## **Rendimiento del modelo**\n",
        "\n",
        "Se usa el modelo para predecir los niveles de inglés en el conjunto de prueba. Luego, se genera un reporte de clasificación con métricas como precisión (accuracy), recall, y F1-score para cada clase. Finalmente, se muestra una matriz de confusión, que indica cuántos estudiantes fueron clasificados correctamente o incorrectamente."
      ],
      "metadata": {
        "id": "8V0dHL5yrs4_"
      }
    },
    {
      "cell_type": "code",
      "source": [
        "# Paso 7: Evaluación\n",
        "y_pred = model.predict(X_test)\n",
        "\n",
        "# Clases presentes\n",
        "labels_presentes = unique_labels(y_test, y_pred)\n",
        "print(\"Reporte de Clasificación:\")\n",
        "print(classification_report(y_test, y_pred, labels=labels_presentes,\n",
        "                            target_names=le.inverse_transform(labels_presentes)))\n",
        "\n",
        "# Matriz de Confusión\n",
        "plt.figure(figsize=(6,4))\n",
        "sns.heatmap(confusion_matrix(y_test, y_pred),\n",
        "            annot=True, fmt='d',\n",
        "            xticklabels=le.inverse_transform(labels_presentes),\n",
        "            yticklabels=le.inverse_transform(labels_presentes),\n",
        "            cmap=\"Blues\")\n",
        "plt.xlabel('Predicho')\n",
        "plt.ylabel('Real')\n",
        "plt.title('Matriz de Confusión')\n",
        "plt.show()"
      ],
      "metadata": {
        "colab": {
          "base_uri": "https://localhost:8080/",
          "height": 601
        },
        "id": "48oiyPAVmLK3",
        "outputId": "8082244a-f7d2-47cb-e579-bee06e6283bf"
      },
      "execution_count": null,
      "outputs": [
        {
          "output_type": "stream",
          "name": "stdout",
          "text": [
            "Reporte de Clasificación:\n",
            "              precision    recall  f1-score   support\n",
            "\n",
            "          A2       1.00      1.00      1.00         1\n",
            "          B1       1.00      1.00      1.00         3\n",
            "          B2       1.00      1.00      1.00         1\n",
            "\n",
            "    accuracy                           1.00         5\n",
            "   macro avg       1.00      1.00      1.00         5\n",
            "weighted avg       1.00      1.00      1.00         5\n",
            "\n"
          ]
        },
        {
          "output_type": "display_data",
          "data": {
            "text/plain": [
              "<Figure size 600x400 with 2 Axes>"
            ],
            "image/png": "[encoded data removed]"
          },
          "metadata": {}
        }
      ]
    },
    {
      "cell_type": "markdown",
      "source": [
        "## **Interpretación de resultados**\n",
        "\n",
        "Se observa que el modelo clasificó correctamente los 5 estudiantes del conjunto de prueba, lo que es un excelente resultado inicial.\n",
        "\n",
        "Ahora bien, son solo 5 casos. Aunque los resultados son perfectos, no es suficiente evidencia estadística de que el modelo funcione igual de bien con nuevos estudiantes. A2 y B2 solo cuentan con un caso en el test, por lo que no es una prueba robusta.\n",
        "\n",
        "Es casi seguro que estamos en presencia de overfitting, ya que al tener un dataset pequeño, el modelo puede estar “memorizando” los patrones."
      ],
      "metadata": {
        "id": "0zK1859Ur9V5"
      }
    },
    {
      "cell_type": "markdown",
      "source": [
        "Finalmente, se calcula la importancia de cada habilidad en la predicción del nivel de inglés.\n",
        "\n",
        "Esto permite saber qué habilidades influyen más en determinar el nivel (por ejemplo, si Speaking es más determinante que Reading)."
      ],
      "metadata": {
        "id": "ApEmXS-qtXqd"
      }
    },
    {
      "cell_type": "code",
      "source": [
        "# Paso 8: Importancia de características\n",
        "importances = model.feature_importances_\n",
        "feature_names = X.columns\n",
        "importance_df = pd.DataFrame({'Feature': feature_names, 'Importance': importances})\n",
        "importance_df = importance_df.sort_values(by='Importance', ascending=False)\n",
        "\n",
        "plt.figure(figsize=(8,4))\n",
        "sns.barplot(data=importance_df, x='Importance', y='Feature')\n",
        "plt.title('Importancia de cada habilidad en la predicción del nivel')\n",
        "plt.show()"
      ],
      "metadata": {
        "colab": {
          "base_uri": "https://localhost:8080/",
          "height": 411
        },
        "id": "ZnAgJffhmN_d",
        "outputId": "dbf5c8d4-10da-4d09-d03c-49de2f853c32"
      },
      "execution_count": null,
      "outputs": [
        {
          "output_type": "display_data",
          "data": {
            "text/plain": [
              "<Figure size 800x400 with 1 Axes>"
            ],
            "image/png": "[encoded data removed]"
          },
          "metadata": {}
        }
      ]
    },
    {
      "cell_type": "markdown",
      "source": [
        "Podemos ver que el modelo le asigna casi un 40% de importancia total a Reading, lo que sugiere que las diferencias entre niveles A2, B1 y B2 se reflejan fuertemente en esta prueba. Esto se puede deber a una mayor dispersión en puntajes de lectura o ser un indicador base de competencia general.\n",
        "\n",
        "Speaking y Listening  tienen un peso considerable, lo que indica que también contribuyen bien a distinguir niveles. Dado que son productivas/receptivas en contexto oral, podrían estar reflejando competencia comunicativa funcional.\n",
        "\n",
        "Finalmente, Writing es la menos influyente. Se puede deber a puntajes más uniformes o que podría no ser tan influyente en la ponderación de la evaluación."
      ],
      "metadata": {
        "id": "654opKDftbMX"
      }
    },
    {
      "cell_type": "markdown",
      "source": [
        "## **Conclusiones**\n",
        "\n",
        "Los resultados del modelo muestran que la comprensión lectora (Reading) es la habilidad con mayor peso en la predicción del nivel de inglés. Esto sugiere que, para mejorar el nivel general de los estudiantes, puede ser más efectivo enfocar las estrategias pedagógicas en reforzar la lectura, especialmente en los primeros años de enseñanza media.\n",
        "\n",
        "Además, el modelo permite identificar con mayor claridad qué estudiantes podrían estar en riesgo de no alcanzar el nivel esperado, facilitando intervenciones más focalizadas. Esta información también puede orientar decisiones curriculares, priorizando habilidades que tienen mayor impacto en el logro global.\n",
        "\n",
        "Sin embargo, este análisis tiene limitaciones metodológicas importantes. El conjunto de datos es pequeño y presenta una distribución desigual entre las clases, lo que puede influir en la estabilidad del modelo."
      ],
      "metadata": {
        "id": "WrTZXxnquCdO"
      }
    }
  ]
}